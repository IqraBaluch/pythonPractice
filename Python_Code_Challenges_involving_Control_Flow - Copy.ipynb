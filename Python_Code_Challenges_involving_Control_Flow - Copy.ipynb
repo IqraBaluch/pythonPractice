{
 "cells": [
  {
   "cell_type": "markdown",
   "metadata": {},
   "source": [
    "# PYTHON CODE CHALLENGES CONTROL FLOW "
   ]
  },
  {
   "cell_type": "markdown",
   "metadata": {},
   "source": [
    "# 1. Large Power "
   ]
  },
  {
   "cell_type": "code",
   "execution_count": 19,
   "metadata": {},
   "outputs": [
    {
     "name": "stdout",
     "output_type": "stream",
     "text": [
      "False\n"
     ]
    }
   ],
   "source": [
    "# function with two input parameters called base and exponent\n",
    "def large_power(base, exponent):\n",
    "    if base ** exponent > 5000:\n",
    "        return True\n",
    "    else:\n",
    "        return False\n",
    "        \n",
    "print(large_power(2,12))"
   ]
  },
  {
   "cell_type": "markdown",
   "metadata": {},
   "source": [
    "# 2. Over Budget"
   ]
  },
  {
   "cell_type": "code",
   "execution_count": 32,
   "metadata": {},
   "outputs": [
    {
     "name": "stdout",
     "output_type": "stream",
     "text": [
      "False\n",
      "True\n"
     ]
    }
   ],
   "source": [
    "# function that accepts five parameters starting with budget then food_bill, electricity_bill, internet_bill, and rent\n",
    "\n",
    "def over_budget(budget, food_bill, electricity_bill, internet_bill, rent):\n",
    "    if (budget < food_bill + electricity_bill + internet_bill + rent):\n",
    "        return True\n",
    "    else:\n",
    "        return False\n",
    "    \n",
    "print(over_budget(5000, 1000, 1000, 50, 1000))\n",
    "print(over_budget(5000, 22000, 1000, 15000, 1000))"
   ]
  },
  {
   "cell_type": "markdown",
   "metadata": {},
   "source": [
    "# 3. Twice As Large"
   ]
  },
  {
   "cell_type": "code",
   "execution_count": 45,
   "metadata": {},
   "outputs": [
    {
     "name": "stdout",
     "output_type": "stream",
     "text": [
      "False\n",
      "True\n"
     ]
    }
   ],
   "source": [
    "# function with two inputs num1 and num2\n",
    "def twice_larger(num1, num2):\n",
    "    if (num1 > num2*2):\n",
    "        return True\n",
    "    else:\n",
    "        return False\n",
    "    \n",
    "print(twice_larger(2,4))\n",
    "print(twice_larger(7777770,20))"
   ]
  },
  {
   "cell_type": "markdown",
   "metadata": {},
   "source": [
    "# 4. Divisible By Ten"
   ]
  },
  {
   "cell_type": "code",
   "execution_count": 49,
   "metadata": {},
   "outputs": [
    {
     "name": "stdout",
     "output_type": "stream",
     "text": [
      "False\n"
     ]
    }
   ],
   "source": [
    "#  function with one input num\n",
    "def devisible_by_ten(num):\n",
    "    if num % 10 ==0:\n",
    "        return True\n",
    "    else:\n",
    "        return False\n",
    "    \n",
    "print(devisible_by_ten(1101))"
   ]
  },
  {
   "cell_type": "markdown",
   "metadata": {},
   "source": [
    "# 5. Not Sum To Ten"
   ]
  },
  {
   "cell_type": "code",
   "execution_count": 52,
   "metadata": {},
   "outputs": [
    {
     "name": "stdout",
     "output_type": "stream",
     "text": [
      "True\n"
     ]
    }
   ],
   "source": [
    "#function accepts two parameters, num1 and num\n",
    "def not_sum_to_ten(num1, num):\n",
    "    if(num1+num != 10):\n",
    "        return True\n",
    "    else:\n",
    "        return False\n",
    "print(not_sum_to_ten(23,2))"
   ]
  },
  {
   "cell_type": "markdown",
   "metadata": {},
   "source": [
    "# Python Code Challenges: Control Flow (Advanced)"
   ]
  },
  {
   "cell_type": "markdown",
   "metadata": {},
   "source": [
    "# 6. In Range"
   ]
  },
  {
   "cell_type": "code",
   "execution_count": 55,
   "metadata": {},
   "outputs": [
    {
     "name": "stdout",
     "output_type": "stream",
     "text": [
      "False\n"
     ]
    }
   ],
   "source": [
    "#function accepts three numbers as parameter\n",
    "def in_range(num,lower,uper):\n",
    "    if num >= lower and num <= uper:\n",
    "        return True\n",
    "    else:\n",
    "        return False\n",
    "print(in_range(3,1,2))"
   ]
  },
  {
   "cell_type": "markdown",
   "metadata": {},
   "source": [
    "# 7. Same Name"
   ]
  },
  {
   "cell_type": "code",
   "execution_count": 57,
   "metadata": {},
   "outputs": [
    {
     "name": "stdout",
     "output_type": "stream",
     "text": [
      "True\n"
     ]
    }
   ],
   "source": [
    "def same_name(your_name, my_name):\n",
    "    if your_name == my_name:\n",
    "        return True\n",
    "    else:\n",
    "        return False\n",
    "print(same_name(\"iqra\", \"iqra\"))"
   ]
  },
  {
   "cell_type": "markdown",
   "metadata": {},
   "source": [
    "# 8. Always False"
   ]
  },
  {
   "cell_type": "code",
   "execution_count": 59,
   "metadata": {},
   "outputs": [
    {
     "name": "stdout",
     "output_type": "stream",
     "text": [
      "False\n"
     ]
    }
   ],
   "source": [
    "def always_false(num):\n",
    "    if(num > 0 and num < 0):\n",
    "        return True\n",
    "    else:\n",
    "        return False\n",
    "print(always_false(3))"
   ]
  },
  {
   "cell_type": "markdown",
   "metadata": {},
   "source": [
    "# 9. Movie Review\n"
   ]
  },
  {
   "cell_type": "code",
   "execution_count": 69,
   "metadata": {},
   "outputs": [
    {
     "name": "stdout",
     "output_type": "stream",
     "text": [
      "Outstanding\n",
      "avoid at all cost\n",
      "avoid at all cost\n"
     ]
    }
   ],
   "source": [
    "def movie_rating(rating):\n",
    "    if rating <= 5:\n",
    "        return \"avoid at all cost\"\n",
    "    if rating < 9:\n",
    "        return \"This one was fun.\"\n",
    "    \n",
    "    return \"Outstanding\"\n",
    "        \n",
    "print(movie_rating(11))\n",
    "print(movie_rating(4))\n",
    "print(movie_rating(0))"
   ]
  },
  {
   "cell_type": "markdown",
   "metadata": {},
   "source": [
    "# 10. Max Number"
   ]
  },
  {
   "cell_type": "code",
   "execution_count": 72,
   "metadata": {},
   "outputs": [
    {
     "name": "stdout",
     "output_type": "stream",
     "text": [
      "5\n",
      "13\n",
      "5\n",
      "31\n",
      "25\n"
     ]
    }
   ],
   "source": [
    "def max_num(num1, num2, num3):\n",
    "    if num1 > num2:\n",
    "        return num1\n",
    "    if num2 > num1:\n",
    "        return num2\n",
    "    if num1 > num3:\n",
    "        return num1\n",
    "    if num3 > num1:\n",
    "        return num3\n",
    "    if num2 > num3:\n",
    "        return num2\n",
    "    if num3 > num2:\n",
    "        return num3\n",
    "    \n",
    "print(max_num(3,5,1))\n",
    "print(max_num(13,5,1))\n",
    "print(max_num(3,5,111))\n",
    "print(max_num(31,5,11))\n",
    "print(max_num(3,25,1))\n"
   ]
  },
  {
   "cell_type": "code",
   "execution_count": 74,
   "metadata": {},
   "outputs": [
    {
     "name": "stdout",
     "output_type": "stream",
     "text": [
      "5\n",
      "13\n",
      "111\n",
      "31\n",
      "25\n"
     ]
    }
   ],
   "source": [
    "def max_num(num1, num2, num3):\n",
    "  if num1 > num2 and num1 > num3:\n",
    "    return num1\n",
    "  elif num2 > num1 and num2 > num3:\n",
    "    return num2\n",
    "  elif num3 > num1 and num3 > num2:\n",
    "    return num3\n",
    "  else:\n",
    "    return \"It's a tie!\"\n",
    "print(max_num(3,5,1))\n",
    "print(max_num(13,5,1))\n",
    "print(max_num(3,5,111))\n",
    "print(max_num(31,5,11))\n",
    "print(max_num(3,25,1))\n"
   ]
  },
  {
   "cell_type": "code",
   "execution_count": null,
   "metadata": {},
   "outputs": [],
   "source": []
  }
 ],
 "metadata": {
  "kernelspec": {
   "display_name": "Python 3",
   "language": "python",
   "name": "python3"
  },
  "language_info": {
   "codemirror_mode": {
    "name": "ipython",
    "version": 3
   },
   "file_extension": ".py",
   "mimetype": "text/x-python",
   "name": "python",
   "nbconvert_exporter": "python",
   "pygments_lexer": "ipython3",
   "version": "3.7.0"
  }
 },
 "nbformat": 4,
 "nbformat_minor": 2
}
